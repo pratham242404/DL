{
 "cells": [
  {
   "cell_type": "code",
   "execution_count": 2,
   "id": "896b9bfd-d7d0-4338-8aa0-6d63a9ca9db7",
   "metadata": {},
   "outputs": [],
   "source": [
    "from tensorflow.keras.preprocessing.image import load_img\n",
    "from tensorflow.keras.preprocessing.image import img_to_array\n",
    "from keras.applications.vgg16 import preprocess_input\n",
    "from keras.applications.vgg16 import VGG16\n",
    "from keras.applications.vgg16 import decode_predictions\n"
   ]
  },
  {
   "cell_type": "code",
   "execution_count": 24,
   "id": "d41fb4fe-2bb0-4e22-b527-debc0f90aa04",
   "metadata": {},
   "outputs": [],
   "source": [
    "image = load_img(\"C:/Users/prath/OneDrive/Desktop/dog.jpg\", target_size=(224, 224))"
   ]
  },
  {
   "cell_type": "code",
   "execution_count": 26,
   "id": "d5e68b54-b449-4d31-b041-da59d6421594",
   "metadata": {},
   "outputs": [],
   "source": [
    "image=img_to_array(image)"
   ]
  },
  {
   "cell_type": "code",
   "execution_count": 28,
   "id": "424527bf-fdec-4425-8718-ba1d7bb54273",
   "metadata": {},
   "outputs": [],
   "source": [
    "image=image.reshape((1,image.shape[0],image.shape[1],image.shape[2]))"
   ]
  },
  {
   "cell_type": "code",
   "execution_count": 30,
   "id": "13c3cb5e-77c3-4d30-a4d1-84739b99cb45",
   "metadata": {},
   "outputs": [],
   "source": [
    "image=preprocess_input(image)"
   ]
  },
  {
   "cell_type": "code",
   "execution_count": 32,
   "id": "b4f8cd05-060b-482a-84b4-a29ccc5caad8",
   "metadata": {},
   "outputs": [],
   "source": [
    "model=VGG16()"
   ]
  },
  {
   "cell_type": "code",
   "execution_count": 34,
   "id": "03251a51-02fc-4511-817c-79cb902d8093",
   "metadata": {},
   "outputs": [
    {
     "name": "stdout",
     "output_type": "stream",
     "text": [
      "\u001b[1m1/1\u001b[0m \u001b[32m━━━━━━━━━━━━━━━━━━━━\u001b[0m\u001b[37m\u001b[0m \u001b[1m0s\u001b[0m 498ms/step\n"
     ]
    }
   ],
   "source": [
    "yhat=model.predict(image)"
   ]
  },
  {
   "cell_type": "code",
   "execution_count": 38,
   "id": "97a099e7-c9fc-4b81-959d-ee68d3437f20",
   "metadata": {},
   "outputs": [],
   "source": [
    "label=decode_predictions(yhat)"
   ]
  },
  {
   "cell_type": "code",
   "execution_count": 40,
   "id": "e4d83dab-c709-4359-bc16-4f4add10fed7",
   "metadata": {},
   "outputs": [],
   "source": [
    "label=label[0][0]"
   ]
  },
  {
   "cell_type": "code",
   "execution_count": 42,
   "id": "03619615-c52c-43aa-98a5-91341b4e96ea",
   "metadata": {},
   "outputs": [
    {
     "name": "stdout",
     "output_type": "stream",
     "text": [
      "Labrador_retriever (76.609445%)\n"
     ]
    }
   ],
   "source": [
    "print('%s (%2f%%)' % (label[1],label[2]*100))"
   ]
  },
  {
   "cell_type": "code",
   "execution_count": null,
   "id": "ea6e9912-3dfd-4326-99de-774eb402b229",
   "metadata": {},
   "outputs": [],
   "source": []
  }
 ],
 "metadata": {
  "kernelspec": {
   "display_name": "Python 3 (ipykernel)",
   "language": "python",
   "name": "python3"
  },
  "language_info": {
   "codemirror_mode": {
    "name": "ipython",
    "version": 3
   },
   "file_extension": ".py",
   "mimetype": "text/x-python",
   "name": "python",
   "nbconvert_exporter": "python",
   "pygments_lexer": "ipython3",
   "version": "3.12.7"
  }
 },
 "nbformat": 4,
 "nbformat_minor": 5
}
